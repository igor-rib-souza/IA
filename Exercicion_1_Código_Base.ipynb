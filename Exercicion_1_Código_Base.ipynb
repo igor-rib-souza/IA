{
  "nbformat": 4,
  "nbformat_minor": 0,
  "metadata": {
    "colab": {
      "provenance": [],
      "include_colab_link": true
    },
    "kernelspec": {
      "name": "python3",
      "display_name": "Python 3"
    },
    "language_info": {
      "name": "python"
    }
  },
  "cells": [
    {
      "cell_type": "markdown",
      "metadata": {
        "id": "view-in-github",
        "colab_type": "text"
      },
      "source": [
        "<a href=\"https://colab.research.google.com/github/igor-rib-souza/IA/blob/main/Exercicion_1_C%C3%B3digo_Base.ipynb\" target=\"_parent\"><img src=\"https://colab.research.google.com/assets/colab-badge.svg\" alt=\"Open In Colab\"/></a>"
      ]
    },
    {
      "cell_type": "code",
      "execution_count": null,
      "metadata": {
        "id": "oHrMoZcXHY45"
      },
      "outputs": [],
      "source": [
        "import heapq\n",
        "import matplotlib.pyplot as plt\n",
        "\n",
        "\n",
        "# Definição do labirinto\n",
        "labirinto = [\n",
        "    ['S', '0', '1', '0', '0', 'E'],\n",
        "    ['1', '0', '1', '1', '0', '1'],\n",
        "    ['1', '0', '1', '1', '0', '0'],\n",
        "    ['0', '0', '0', '0', '1', '0'],\n",
        "    ['0', '0', '1', '0', '0', '0'],\n",
        "]\n",
        "\n",
        "# Encontrar a posição inicial 'S' e a posição final 'E'\n",
        "def encontrar_posicoes(labirinto):\n",
        "    for i, linha in enumerate(labirinto):\n",
        "        # TODO\n",
        "\n",
        "        pass\n",
        "\n",
        "    return start, end\n",
        "\n",
        "# Função heurística (distância de Manhattan)\n",
        "def heuristica(posicao, end):\n",
        "    distancia = None\n",
        "\n",
        "    ## TODO\n",
        "\n",
        "    return distancia\n",
        "\n",
        "# Função para gerar novos estados\n",
        "def gerar_estados(labirinto, posicao):\n",
        "    estados = []\n",
        "\n",
        "    ## TODO\n",
        "\n",
        "    return estados\n",
        "\n",
        "# Algoritmo A*\n",
        "def a_star(labirinto):\n",
        "    ## TODO\n",
        "\n",
        "    return None\n",
        "\n",
        "# Algoritmo Busca Gulosa\n",
        "def busca_gulosa(labirinto):\n",
        "    # TODO\n",
        "\n",
        "    return None"
      ]
    },
    {
      "cell_type": "code",
      "source": [
        "def plotar_labirinto(labirinto, caminho, titulo):\n",
        "    fig, ax = plt.subplots()\n",
        "    ax.set_title(titulo)\n",
        "    for i in range(len(labirinto)):\n",
        "        for j in range(len(labirinto[0])):\n",
        "            if labirinto[i][j] == '1':\n",
        "                ax.add_patch(plt.Rectangle((j, i), 1, 1, color='black'))\n",
        "            elif labirinto[i][j] == 'S':\n",
        "                ax.add_patch(plt.Rectangle((j, i), 1, 1, color='green'))\n",
        "            elif labirinto[i][j] == 'E':\n",
        "                ax.add_patch(plt.Rectangle((j, i), 1, 1, color='red'))\n",
        "            else:\n",
        "                ax.add_patch(plt.Rectangle((j, i), 1, 1, color='white', edgecolor='black'))\n",
        "\n",
        "    for pos in caminho:\n",
        "        ax.add_patch(plt.Rectangle((pos[1], pos[0]), 1, 1, color='blue', alpha=0.5))\n",
        "\n",
        "    ax.set_xticks(range(len(labirinto[0]) + 1))\n",
        "    ax.set_yticks(range(len(labirinto) + 1))\n",
        "    ax.grid(True)\n",
        "    plt.gca().invert_yaxis()\n",
        "    plt.show()"
      ],
      "metadata": {
        "id": "sotxdk_dH8lo"
      },
      "execution_count": null,
      "outputs": []
    },
    {
      "cell_type": "markdown",
      "source": [
        "### Labirinto Inicial"
      ],
      "metadata": {
        "id": "C_59MtstIEw_"
      }
    },
    {
      "cell_type": "code",
      "source": [
        "plotar_labirinto(labirinto, caminho=[], titulo=\"Labirinto Inicial\")"
      ],
      "metadata": {
        "colab": {
          "base_uri": "https://localhost:8080/",
          "height": 488
        },
        "id": "XGEOnJS_IHYM",
        "outputId": "fff50b30-24d8-4bc9-95bc-a82f0cecb7cc"
      },
      "execution_count": null,
      "outputs": [
        {
          "output_type": "stream",
          "name": "stderr",
          "text": [
            "<ipython-input-10-4ea44bae3cd1>:13: UserWarning: Setting the 'color' property will override the edgecolor or facecolor properties.\n",
            "  ax.add_patch(plt.Rectangle((j, i), 1, 1, color='white', edgecolor='black'))\n"
          ]
        },
        {
          "output_type": "display_data",
          "data": {
            "text/plain": [
              "<Figure size 640x480 with 1 Axes>"
            ],
            "image/png": "[encoded data removed]"
          },
          "metadata": {}
        }
      ]
    }
  ]
}